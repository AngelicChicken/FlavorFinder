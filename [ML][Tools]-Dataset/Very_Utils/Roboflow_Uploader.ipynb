{
  "nbformat": 4,
  "nbformat_minor": 0,
  "metadata": {
    "colab": {
      "provenance": []
    },
    "kernelspec": {
      "name": "python3",
      "display_name": "Python 3"
    },
    "language_info": {
      "name": "python"
    }
  },
  "cells": [
    {
      "cell_type": "code",
      "source": [
        "#Donwload package robflow\n",
        "!pip install roboflow"
      ],
      "metadata": {
        "id": "ZB2dQQaul17L"
      },
      "execution_count": null,
      "outputs": []
    },
    {
      "cell_type": "code",
      "source": [
        "#download from kaggle donwload link\n",
        "!wget https://kkb-production.jupyter-proxy.kaggle.net/k/179120613/eyJhbGciOiJkaXIiLCJlbmMiOiJBMTI4Q0JDLUhTMjU2IiwidHlwIjoiSldUIn0..XPr9NYWEd9rq_VLuT3nUIA.ui7ZGGdeuz8gAUQRFmnL9zhlkcPLU0wQTq-_vF0RutqA5xqdFW-AN04LaGIUkqraVYHPnnQ5oR-ntwR-9TjNOJ4nkt0bsY2V_A4ulZ99TIXWMe_kwd9-TO4jhoz0_CpSIi_qJUKJBPK8JntYT0UcG7SfEHFD3LUWoKryjbAyc2XBx6yPObjMPhuyZ0rF9W70QRy4SlClByI48mFB0i4zwg.EJPuDOLzBsY5jQXq7H3JfQ/proxy/files/Avocado.zip"
      ],
      "metadata": {
        "id": "QkxQTh1mVI-z"
      },
      "execution_count": null,
      "outputs": []
    },
    {
      "cell_type": "code",
      "source": [
        "#Extract\n",
        "import zipfile\n",
        "with zipfile.ZipFile('/content/Avocado.zip', 'r') as zip_ref:\n",
        "    zip_ref.extractall('/content/Avocado')"
      ],
      "metadata": {
        "id": "KGUrMxmnmm5M"
      },
      "execution_count": null,
      "outputs": []
    },
    {
      "cell_type": "code",
      "source": [
        "#Login to robolow to authorize API\n",
        "!roboflow login"
      ],
      "metadata": {
        "id": "l7WaZvqnnheu"
      },
      "execution_count": null,
      "outputs": []
    },
    {
      "cell_type": "code",
      "source": [
        "#Upload to Roboflow\n",
        "!roboflow import -w capstone-mgbdv -p capstone_ingredient '/content/Avocado/Avocado'"
      ],
      "metadata": {
        "id": "-r1oC1GznswJ"
      },
      "execution_count": null,
      "outputs": []
    }
  ]
}